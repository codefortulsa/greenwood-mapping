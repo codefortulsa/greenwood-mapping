{
 "cells": [
  {
   "cell_type": "code",
   "execution_count": 46,
   "metadata": {},
   "outputs": [
    {
     "ename": "RuntimeError",
     "evalue": "populate() isn't reentrant",
     "output_type": "error",
     "traceback": [
      "\u001b[0;31m---------------------------------------------------------------------------\u001b[0m",
      "\u001b[0;31mRuntimeError\u001b[0m                              Traceback (most recent call last)",
      "Cell \u001b[0;32mIn[46], line 1\u001b[0m\n\u001b[0;32m----> 1\u001b[0m \u001b[39mimport\u001b[39;00m \u001b[39mdjango_initializer\u001b[39;00m\n\u001b[1;32m      2\u001b[0m \u001b[39mimport\u001b[39;00m \u001b[39mpetl\u001b[39;00m \u001b[39mas\u001b[39;00m \u001b[39metl\u001b[39;00m\n\u001b[1;32m      3\u001b[0m \u001b[39mfrom\u001b[39;00m \u001b[39mdjango\u001b[39;00m\u001b[39m.\u001b[39;00m\u001b[39mconf\u001b[39;00m \u001b[39mimport\u001b[39;00m settings\n",
      "File \u001b[0;32m/app/notebooks/django_initializer.py:25\u001b[0m\n\u001b[1;32m     22\u001b[0m importer\u001b[39m.\u001b[39minstall()\n\u001b[1;32m     24\u001b[0m \u001b[39m# This is for setting up django\u001b[39;00m\n\u001b[0;32m---> 25\u001b[0m django\u001b[39m.\u001b[39;49msetup()\n",
      "File \u001b[0;32m/app/.venv/lib/python3.10/site-packages/django/__init__.py:24\u001b[0m, in \u001b[0;36msetup\u001b[0;34m(set_prefix)\u001b[0m\n\u001b[1;32m     20\u001b[0m \u001b[39mif\u001b[39;00m set_prefix:\n\u001b[1;32m     21\u001b[0m     set_script_prefix(\n\u001b[1;32m     22\u001b[0m         \u001b[39m\"\u001b[39m\u001b[39m/\u001b[39m\u001b[39m\"\u001b[39m \u001b[39mif\u001b[39;00m settings\u001b[39m.\u001b[39mFORCE_SCRIPT_NAME \u001b[39mis\u001b[39;00m \u001b[39mNone\u001b[39;00m \u001b[39melse\u001b[39;00m settings\u001b[39m.\u001b[39mFORCE_SCRIPT_NAME\n\u001b[1;32m     23\u001b[0m     )\n\u001b[0;32m---> 24\u001b[0m apps\u001b[39m.\u001b[39;49mpopulate(settings\u001b[39m.\u001b[39;49mINSTALLED_APPS)\n",
      "File \u001b[0;32m/app/.venv/lib/python3.10/site-packages/django/apps/registry.py:83\u001b[0m, in \u001b[0;36mApps.populate\u001b[0;34m(self, installed_apps)\u001b[0m\n\u001b[1;32m     78\u001b[0m \u001b[39m# An RLock prevents other threads from entering this section. The\u001b[39;00m\n\u001b[1;32m     79\u001b[0m \u001b[39m# compare and set operation below is atomic.\u001b[39;00m\n\u001b[1;32m     80\u001b[0m \u001b[39mif\u001b[39;00m \u001b[39mself\u001b[39m\u001b[39m.\u001b[39mloading:\n\u001b[1;32m     81\u001b[0m     \u001b[39m# Prevent reentrant calls to avoid running AppConfig.ready()\u001b[39;00m\n\u001b[1;32m     82\u001b[0m     \u001b[39m# methods twice.\u001b[39;00m\n\u001b[0;32m---> 83\u001b[0m     \u001b[39mraise\u001b[39;00m \u001b[39mRuntimeError\u001b[39;00m(\u001b[39m\"\u001b[39m\u001b[39mpopulate() isn\u001b[39m\u001b[39m'\u001b[39m\u001b[39mt reentrant\u001b[39m\u001b[39m\"\u001b[39m)\n\u001b[1;32m     84\u001b[0m \u001b[39mself\u001b[39m\u001b[39m.\u001b[39mloading \u001b[39m=\u001b[39m \u001b[39mTrue\u001b[39;00m\n\u001b[1;32m     86\u001b[0m \u001b[39m# Phase 1: initialize app configs and import app modules.\u001b[39;00m\n",
      "\u001b[0;31mRuntimeError\u001b[0m: populate() isn't reentrant"
     ]
    }
   ],
   "source": [
    "import django_initializer\n",
    "import petl as etl\n",
    "from django.conf import settings\n",
    "\n",
    "\n",
    "DATA_DIR = settings.BASE_DIR / \"..\" / \"data\"\n",
    "DATA_DIR\n"
   ]
  },
  {
   "cell_type": "code",
   "execution_count": null,
   "metadata": {},
   "outputs": [
    {
     "data": {
      "text/html": [
       "<table class='petl'>\n",
       "<thead>\n",
       "<tr>\n",
       "<th>street</th>\n",
       "<th>no</th>\n",
       "<th>1920</th>\n",
       "<th>1921</th>\n",
       "<th>1922</th>\n",
       "<th>1923</th>\n",
       "<th>1920 census</th>\n",
       "<th>losses</th>\n",
       "<th>notes</th>\n",
       "</tr>\n",
       "</thead>\n",
       "<tbody>\n",
       "<tr>\n",
       "<td>Admiral Blvd.</td>\n",
       "<td>3</td>\n",
       "<td>None</td>\n",
       "<td>None</td>\n",
       "<td>None</td>\n",
       "<td>R.W. Williams</td>\n",
       "<td></td>\n",
       "<td></td>\n",
       "<td></td>\n",
       "</tr>\n",
       "<tr>\n",
       "<td>Admiral Blvd.</td>\n",
       "<td>800</td>\n",
       "<td>None</td>\n",
       "<td>Pardillo, Victor</td>\n",
       "<td>None</td>\n",
       "<td>None</td>\n",
       "<td>Padilla, Victor (25) laborer</td>\n",
       "<td></td>\n",
       "<td></td>\n",
       "</tr>\n",
       "<tr>\n",
       "<td>Admiral Blvd.</td>\n",
       "<td>801</td>\n",
       "<td>None</td>\n",
       "<td>Hooper Bros.*</td>\n",
       "<td>None</td>\n",
       "<td>None</td>\n",
       "<td></td>\n",
       "<td></td>\n",
       "<td></td>\n",
       "</tr>\n",
       "<tr>\n",
       "<td>Admiral Blvd.</td>\n",
       "<td>807</td>\n",
       "<td>None</td>\n",
       "<td>None</td>\n",
       "<td>Hoper Bros,  whol. Tea</td>\n",
       "<td>None</td>\n",
       "<td></td>\n",
       "<td></td>\n",
       "<td></td>\n",
       "</tr>\n",
       "<tr>\n",
       "<td>Admiral Blvd.</td>\n",
       "<td>807</td>\n",
       "<td>Tulsa Coffee Co.*</td>\n",
       "<td>Tulsa Coffee Co.*</td>\n",
       "<td>Tulsa Coffee Co.</td>\n",
       "<td>None</td>\n",
       "<td></td>\n",
       "<td></td>\n",
       "<td></td>\n",
       "</tr>\n",
       "</tbody>\n",
       "</table>\n",
       "<p><strong>...</strong></p>"
      ],
      "text/plain": [
       "+-----------------+-------+---------------------+---------------------+--------------------------+-----------------+--------------------------------+--------+-------+\n",
       "| street          | no    | 1920                | 1921                | 1922                     | 1923            | 1920 census                    | losses | notes |\n",
       "+=================+=======+=====================+=====================+==========================+=================+================================+========+=======+\n",
       "| 'Admiral Blvd.' | '3'   | None                | None                | None                     | 'R.W. Williams' | ''                             | ''     | ''    |\n",
       "+-----------------+-------+---------------------+---------------------+--------------------------+-----------------+--------------------------------+--------+-------+\n",
       "| 'Admiral Blvd.' | '800' | None                | 'Pardillo, Victor'  | None                     | None            | 'Padilla, Victor (25) laborer' | ''     | ''    |\n",
       "+-----------------+-------+---------------------+---------------------+--------------------------+-----------------+--------------------------------+--------+-------+\n",
       "| 'Admiral Blvd.' | '801' | None                | 'Hooper Bros.*'     | None                     | None            | ''                             | ''     | ''    |\n",
       "+-----------------+-------+---------------------+---------------------+--------------------------+-----------------+--------------------------------+--------+-------+\n",
       "| 'Admiral Blvd.' | '807' | None                | None                | 'Hoper Bros,  whol. Tea' | None            | ''                             | ''     | ''    |\n",
       "+-----------------+-------+---------------------+---------------------+--------------------------+-----------------+--------------------------------+--------+-------+\n",
       "| 'Admiral Blvd.' | '807' | 'Tulsa Coffee Co.*' | 'Tulsa Coffee Co.*' | 'Tulsa Coffee Co.'       | None            | ''                             | ''     | ''    |\n",
       "+-----------------+-------+---------------------+---------------------+--------------------------+-----------------+--------------------------------+--------+-------+\n",
       "..."
      ]
     },
     "execution_count": 43,
     "metadata": {},
     "output_type": "execute_result"
    }
   ],
   "source": [
    "from decimal import Decimal\n",
    "\n",
    "null_values = {\n",
    "    \"address not listed\": None,\n",
    "    \"not listed\": None,\n",
    "    \"street not listed\": None,  # could mean street is gone or destroyed or didn't exist yet.\n",
    "}\n",
    "\n",
    "constraints = [dict(name=\"street_name\", field=\"street\", test=str, optional=False)]\n",
    "residents = (\n",
    "    etl.fromcsv(DATA_DIR / \"residents.csv\")\n",
    "    # .convert(\"no\", Decimal)\n",
    "    .convert(\"1920\", null_values)\n",
    "    .convert(\"1921\", null_values)\n",
    "    .convert(\"1922\", null_values)\n",
    "    .convert(\"1923\", null_values)\n",
    "    .convert(\"1920 census\", null_values)\n",
    ")\n",
    "residents\n"
   ]
  },
  {
   "cell_type": "code",
   "execution_count": null,
   "metadata": {},
   "outputs": [
    {
     "data": {
      "text/plain": [
       "+------+-----+-------+-------+-------+\n",
       "| name | row | field | value | error |\n",
       "+======+=====+=======+=======+=======+"
      ]
     },
     "execution_count": 44,
     "metadata": {},
     "output_type": "execute_result"
    }
   ],
   "source": [
    "problems = etl.validate(residents, constraints=constraints)\n",
    "problems.lookall()\n"
   ]
  },
  {
   "cell_type": "code",
   "execution_count": null,
   "metadata": {},
   "outputs": [
    {
     "name": "stdout",
     "output_type": "stream",
     "text": [
      "Unexpected exception formatting exception. Falling back to standard exception\n"
     ]
    },
    {
     "name": "stderr",
     "output_type": "stream",
     "text": [
      "Traceback (most recent call last):\n",
      "  File \"/app/.venv/lib/python3.10/site-packages/IPython/core/interactiveshell.py\", line 3505, in run_code\n",
      "    exec(code_obj, self.user_global_ns, self.user_ns)\n",
      "  File \"/tmp/ipykernel_2539/2884868851.py\", line 20, in <module>\n",
      "    address, address_created = Address.get_or_create_from_unique(\n",
      "  File \"/app/greenwood_history/apps/addresses/models.py\", line 143, in get_or_create_from_unique\n",
      "  File \"/app/.venv/lib/python3.10/site-packages/django/db/models/manager.py\", line 87, in manager_method\n",
      "    return getattr(self.get_queryset(), name)(*args, **kwargs)\n",
      "  File \"/app/.venv/lib/python3.10/site-packages/django/db/models/query.py\", line 916, in get_or_create\n",
      "    return self.get(**kwargs), False\n",
      "  File \"/app/.venv/lib/python3.10/site-packages/django/db/models/query.py\", line 623, in get\n",
      "    clone = self._chain() if self.query.combinator else self.filter(*args, **kwargs)\n",
      "  File \"/app/.venv/lib/python3.10/site-packages/django/db/models/query.py\", line 1436, in filter\n",
      "    return self._filter_or_exclude(False, args, kwargs)\n",
      "  File \"/app/.venv/lib/python3.10/site-packages/django/db/models/query.py\", line 1454, in _filter_or_exclude\n",
      "    clone._filter_or_exclude_inplace(negate, args, kwargs)\n",
      "  File \"/app/.venv/lib/python3.10/site-packages/django/db/models/query.py\", line 1461, in _filter_or_exclude_inplace\n",
      "    self._query.add_q(Q(*args, **kwargs))\n",
      "  File \"/app/.venv/lib/python3.10/site-packages/django/db/models/sql/query.py\", line 1498, in add_q\n",
      "    clause, _ = self._add_q(q_object, self.used_aliases)\n",
      "  File \"/app/.venv/lib/python3.10/site-packages/django/db/models/sql/query.py\", line 1529, in _add_q\n",
      "    child_clause, needed_inner = self.build_filter(\n",
      "  File \"/app/.venv/lib/python3.10/site-packages/django/db/models/sql/query.py\", line 1379, in build_filter\n",
      "    lookups, parts, reffed_expression = self.solve_lookup_type(arg, summarize)\n",
      "  File \"/app/.venv/lib/python3.10/site-packages/django/db/models/sql/query.py\", line 1189, in solve_lookup_type\n",
      "    _, field, _, lookup_parts = self.names_to_path(lookup_splitted, self.get_meta())\n",
      "  File \"/app/.venv/lib/python3.10/site-packages/django/db/models/sql/query.py\", line 1652, in names_to_path\n",
      "    if field.is_relation and not field.related_model:\n",
      "  File \"/app/.venv/lib/python3.10/site-packages/django/utils/functional.py\", line 57, in __get__\n",
      "    res = instance.__dict__[self.name] = self.func(instance)\n",
      "  File \"/app/.venv/lib/python3.10/site-packages/django/db/models/fields/related.py\", line 113, in related_model\n",
      "    apps.check_models_ready()\n",
      "  File \"/app/.venv/lib/python3.10/site-packages/django/apps/registry.py\", line 143, in check_models_ready\n",
      "    raise AppRegistryNotReady(\"Models aren't loaded yet.\")\n",
      "django.core.exceptions.AppRegistryNotReady: Models aren't loaded yet.\n",
      "\n",
      "During handling of the above exception, another exception occurred:\n",
      "\n",
      "Traceback (most recent call last):\n",
      "  File \"/app/.venv/lib/python3.10/site-packages/IPython/core/interactiveshell.py\", line 2102, in showtraceback\n",
      "    stb = self.InteractiveTB.structured_traceback(\n",
      "  File \"/app/.venv/lib/python3.10/site-packages/IPython/core/ultratb.py\", line 1310, in structured_traceback\n",
      "    return FormattedTB.structured_traceback(\n",
      "  File \"/app/.venv/lib/python3.10/site-packages/IPython/core/ultratb.py\", line 1199, in structured_traceback\n",
      "    return VerboseTB.structured_traceback(\n",
      "  File \"/app/.venv/lib/python3.10/site-packages/IPython/core/ultratb.py\", line 1052, in structured_traceback\n",
      "    formatted_exception = self.format_exception_as_a_whole(etype, evalue, etb, number_of_lines_of_context,\n",
      "  File \"/app/.venv/lib/python3.10/site-packages/IPython/core/ultratb.py\", line 978, in format_exception_as_a_whole\n",
      "    frames.append(self.format_record(record))\n",
      "  File \"/app/.venv/lib/python3.10/site-packages/IPython/core/ultratb.py\", line 878, in format_record\n",
      "    frame_info.lines, Colors, self.has_colors, lvals\n",
      "  File \"/app/.venv/lib/python3.10/site-packages/IPython/core/ultratb.py\", line 712, in lines\n",
      "    return self._sd.lines\n",
      "  File \"/app/.venv/lib/python3.10/site-packages/stack_data/utils.py\", line 144, in cached_property_wrapper\n",
      "    value = obj.__dict__[self.func.__name__] = self.func(obj)\n",
      "  File \"/app/.venv/lib/python3.10/site-packages/stack_data/core.py\", line 734, in lines\n",
      "    pieces = self.included_pieces\n",
      "  File \"/app/.venv/lib/python3.10/site-packages/stack_data/utils.py\", line 144, in cached_property_wrapper\n",
      "    value = obj.__dict__[self.func.__name__] = self.func(obj)\n",
      "  File \"/app/.venv/lib/python3.10/site-packages/stack_data/core.py\", line 681, in included_pieces\n",
      "    pos = scope_pieces.index(self.executing_piece)\n",
      "  File \"/app/.venv/lib/python3.10/site-packages/stack_data/utils.py\", line 144, in cached_property_wrapper\n",
      "    value = obj.__dict__[self.func.__name__] = self.func(obj)\n",
      "  File \"/app/.venv/lib/python3.10/site-packages/stack_data/core.py\", line 660, in executing_piece\n",
      "    return only(\n",
      "  File \"/app/.venv/lib/python3.10/site-packages/executing/executing.py\", line 190, in only\n",
      "    raise NotOneValueFound('Expected one value, found 0')\n",
      "executing.executing.NotOneValueFound: Expected one value, found 0\n"
     ]
    }
   ],
   "source": [
    "from addresses.models import Address, Street\n",
    "from petl import dicts\n",
    "\n",
    "year_columns = (\n",
    "    \"1920\",\n",
    "    \"1921\",\n",
    "    \"1922\",\n",
    "    \"1923\",\n",
    "    \"1920 census\",\n",
    ")\n",
    "\n",
    "for row in dicts(residents):\n",
    "    street, street_created = Street.get_or_create_from_name(row[\"street\"])\n",
    "\n",
    "    building_number = row[\"no\"]\n",
    "    if building_number == \"\" or street is None:\n",
    "        # logger.info(\"no building number, skipped: %s\", row)\n",
    "        continue\n",
    "\n",
    "    address, address_created = Address.get_or_create_from_unique(\n",
    "        street=street, number=building_number\n",
    "    )\n",
    "\n",
    "    print(address, address_created)\n"
   ]
  }
 ],
 "metadata": {
  "kernelspec": {
   "display_name": ".venv",
   "language": "python",
   "name": "python3"
  },
  "language_info": {
   "codemirror_mode": {
    "name": "ipython",
    "version": 3
   },
   "file_extension": ".py",
   "mimetype": "text/x-python",
   "name": "python",
   "nbconvert_exporter": "python",
   "pygments_lexer": "ipython3",
   "version": "3.10.10"
  },
  "orig_nbformat": 4
 },
 "nbformat": 4,
 "nbformat_minor": 2
}
