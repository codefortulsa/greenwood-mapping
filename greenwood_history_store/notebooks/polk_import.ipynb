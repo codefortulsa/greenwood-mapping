{
 "cells": [
  {
   "cell_type": "code",
   "execution_count": 37,
   "metadata": {},
   "outputs": [
    {
     "data": {
      "text/plain": [
       "[(1920,\n",
       "  PosixPath('/app/greenwood_history/../data/Combined_PolkDirectory_1920.xlsx')),\n",
       " (1921,\n",
       "  PosixPath('/app/greenwood_history/../data/Combined_PolkDirectory_1921.xlsx')),\n",
       " (1922,\n",
       "  PosixPath('/app/greenwood_history/../data/Combined_PolkDirectory_1922.xlsx'))]"
      ]
     },
     "execution_count": 37,
     "metadata": {},
     "output_type": "execute_result"
    }
   ],
   "source": [
    "import django_initializer\n",
    "import petl as etl\n",
    "from asyncer import asyncify\n",
    "\n",
    "import const\n",
    "\n",
    "year_files = [\n",
    "    (year, const.DATA_DIR / xlsx)\n",
    "    for year, xlsx in [\n",
    "        (1920, \"Combined_PolkDirectory_1920.xlsx\"),\n",
    "        (1921, \"Combined_PolkDirectory_1921.xlsx\"),\n",
    "        (1922, \"Combined_PolkDirectory_1922.xlsx\"),\n",
    "    ]\n",
    "]\n",
    "year_files"
   ]
  },
  {
   "cell_type": "code",
   "execution_count": 38,
   "metadata": {},
   "outputs": [
    {
     "name": "stdout",
     "output_type": "stream",
     "text": [
      "+-----------------+-------------+--------------+------------------+-------------+-------------+-----------------------+---------------+-------------------------+------------+--------+-----------+------------+--------------------------+------------------+---------------------------------------------+-------+-------------------------------+------------------------------+------+------+------+------+------+------+------+------+------+------+------+------+------+------+------+\n",
      "| original street | original NO | house number | street direction | street name | street type | full address          | gis object id | original 1920 city dir. | salutation | suffix | last name | first name | profession/business type | business name    | not listed as african american in directory | Notes | 1920 census/head of residence | listof losses (Parrish book) | None | None | None | None | None | None | None | None | None | None | None | None | None | None | None |\n",
      "+=================+=============+==============+==================+=============+=============+=======================+===============+=========================+============+========+===========+============+==========================+==================+=============================================+=======+===============================+==============================+======+======+======+======+======+======+======+======+======+======+======+======+======+======+======+\n",
      "| Admiral Blvd.   | 3           | 3            | None             | Admiral     | Boulevard   | 3 Admiral Boulevard   | None          | address not listed      | None       | None   | None      |            |                          | None             | None                                        | None  | None                          | None                         | None | None | None | None | None | None | None | None | None | None | None | None | None | None | None |\n",
      "+-----------------+-------------+--------------+------------------+-------------+-------------+-----------------------+---------------+-------------------------+------------+--------+-----------+------------+--------------------------+------------------+---------------------------------------------+-------+-------------------------------+------------------------------+------+------+------+------+------+------+------+------+------+------+------+------+------+------+------+\n",
      "| Admiral Blvd.   | 800         | 800          | None             | Admiral     | Boulevard   | 800 Admiral Boulevard | None          | address not listed      | None       | None   | None      |            |                          | None             | None                                        | None  | Padilla, Victor (25) laborer  | None                         | None | None | None | None | None | None | None | None | None | None | None | None | None | None | None |\n",
      "+-----------------+-------------+--------------+------------------+-------------+-------------+-----------------------+---------------+-------------------------+------------+--------+-----------+------------+--------------------------+------------------+---------------------------------------------+-------+-------------------------------+------------------------------+------+------+------+------+------+------+------+------+------+------+------+------+------+------+------+\n",
      "| Admiral Blvd.   | 801         | 801          | None             | Admiral     | Boulevard   | 801 Admiral Boulevard | None          | address not listed      | None       | None   | None      |            |                          | None             | None                                        | None  | None                          | None                         | None | None | None | None | None | None | None | None | None | None | None | None | None | None | None |\n",
      "+-----------------+-------------+--------------+------------------+-------------+-------------+-----------------------+---------------+-------------------------+------------+--------+-----------+------------+--------------------------+------------------+---------------------------------------------+-------+-------------------------------+------------------------------+------+------+------+------+------+------+------+------+------+------+------+------+------+------+------+\n",
      "| Admiral Blvd.   | 807         | 807          | None             | Admiral     | Boulevard   | 807 Admiral Boulevard | None          | address not listed      | None       | None   | None      |            |                          | None             | None                                        | None  | None                          | None                         | None | None | None | None | None | None | None | None | None | None | None | None | None | None | None |\n",
      "+-----------------+-------------+--------------+------------------+-------------+-------------+-----------------------+---------------+-------------------------+------------+--------+-----------+------------+--------------------------+------------------+---------------------------------------------+-------+-------------------------------+------------------------------+------+------+------+------+------+------+------+------+------+------+------+------+------+------+------+\n",
      "| Admiral Blvd.   | 807         | 807          | None             | Admiral     | Boulevard   | 807 Admiral Boulevard | None          | Tulsa Coffee Co.*       | None       | None   | None      |            |                          | Tulsa Coffee Co. | Y                                           | None  | None                          | None                         | None | None | None | None | None | None | None | None | None | None | None | None | None | None | None |\n",
      "+-----------------+-------------+--------------+------------------+-------------+-------------+-----------------------+---------------+-------------------------+------------+--------+-----------+------------+--------------------------+------------------+---------------------------------------------+-------+-------------------------------+------------------------------+------+------+------+------+------+------+------+------+------+------+------+------+------+------+------+\n",
      "...\n",
      "\n",
      "+-----------------+-------------+--------------+------------------+-------------+-------------+-----------------------+---------------+------------------------------+------------+--------+-----------+------------+--------------------------+------------------+---------------------------------------------+-------+-------------------------------+------------------------------+------+------+------+------+------+------+------+------+------+------+------+------+------+------+------+\n",
      "| original street | original NO | house number | street direction | street name | street type | full address          | gis object id | original 1921 city directory | salutation | suffix | last name | first name | profession/business name | business name    | not listed as african american in directory | Notes | 1920 census/head of residence | listof losses (Parrish book) | None | None | None | None | None | None | None | None | None | None | None | None | None | None | None |\n",
      "+=================+=============+==============+==================+=============+=============+=======================+===============+==============================+============+========+===========+============+==========================+==================+=============================================+=======+===============================+==============================+======+======+======+======+======+======+======+======+======+======+======+======+======+======+======+\n",
      "| Admiral Blvd.   |         3.0 |          3.0 | None             | Admiral     | Boulevard   | 3 Admiral Boulevard   | None          | address not listed           | None       | None   | None      |            |                          | None             | None                                        | None  | None                          | None                         | None | None | None | None | None | None | None | None | None | None | None | None | None | None | None |\n",
      "+-----------------+-------------+--------------+------------------+-------------+-------------+-----------------------+---------------+------------------------------+------------+--------+-----------+------------+--------------------------+------------------+---------------------------------------------+-------+-------------------------------+------------------------------+------+------+------+------+------+------+------+------+------+------+------+------+------+------+------+\n",
      "| Admiral Blvd.   |       800.0 |        800.0 | None             | Admiral     | Boulevard   | 800 Admiral Boulevard | None          | Pardillo, Victor             | None       | None   | Pardillo  | Victor     |                          | None             | None                                        | None  | Padilla, Victor (25) laborer  | None                         | None | None | None | None | None | None | None | None | None | None | None | None | None | None | None |\n",
      "+-----------------+-------------+--------------+------------------+-------------+-------------+-----------------------+---------------+------------------------------+------------+--------+-----------+------------+--------------------------+------------------+---------------------------------------------+-------+-------------------------------+------------------------------+------+------+------+------+------+------+------+------+------+------+------+------+------+------+------+\n",
      "| Admiral Blvd.   |       801.0 |        801.0 | None             | Admiral     | Boulevard   | 801 Admiral Boulevard | None          | Hooper Bros.*                | None       | None   | None      |            |                          | Hooper Bros.     | Y                                           | None  | None                          | None                         | None | None | None | None | None | None | None | None | None | None | None | None | None | None | None |\n",
      "+-----------------+-------------+--------------+------------------+-------------+-------------+-----------------------+---------------+------------------------------+------------+--------+-----------+------------+--------------------------+------------------+---------------------------------------------+-------+-------------------------------+------------------------------+------+------+------+------+------+------+------+------+------+------+------+------+------+------+------+\n",
      "| Admiral Blvd.   |       807.0 |        807.0 | None             | Admiral     | Boulevard   | 807 Admiral Boulevard | None          | address not listed           | None       | None   | None      |            |                          | None             | None                                        | None  | None                          | None                         | None | None | None | None | None | None | None | None | None | None | None | None | None | None | None |\n",
      "+-----------------+-------------+--------------+------------------+-------------+-------------+-----------------------+---------------+------------------------------+------------+--------+-----------+------------+--------------------------+------------------+---------------------------------------------+-------+-------------------------------+------------------------------+------+------+------+------+------+------+------+------+------+------+------+------+------+------+------+\n",
      "| Admiral Blvd.   |       807.0 |        807.0 | None             | Admiral     | Boulevard   | 807 Admiral Boulevard | None          | Tulsa Coffee Co.*            | None       | None   | None      |            |                          | Tulsa Coffee Co. | Y                                           | None  | None                          | None                         | None | None | None | None | None | None | None | None | None | None | None | None | None | None | None |\n",
      "+-----------------+-------------+--------------+------------------+-------------+-------------+-----------------------+---------------+------------------------------+------------+--------+-----------+------------+--------------------------+------------------+---------------------------------------------+-------+-------------------------------+------------------------------+------+------+------+------+------+------+------+------+------+------+------+------+------+------+------+\n",
      "...\n",
      "\n",
      "+-----------------+-------------+--------------+------------------+-------------+-------------+-----------------------+---------------+------------------------------+------------+--------+-----------+------------+--------------------------+----------------------+---------------------------------------------+-------+-------------------------------+------------------------------+\n",
      "| original street | original NO | house number | street direction | street name | street type | full address          | gis object id | original 1922 city directory | salutation | suffix | last name | first name | profession/business name | business name        | not listed as african american in directory | Notes | 1920 census/head of residence | listof losses (Parrish book) |\n",
      "+=================+=============+==============+==================+=============+=============+=======================+===============+==============================+============+========+===========+============+==========================+======================+=============================================+=======+===============================+==============================+\n",
      "| Admiral Blvd.   | 3           | 3            | None             | Admiral     | Boulevard   | 3 Admiral Boulevard   | None          | address not listed           | None       | None   | None      |            |                          | None                 | None                                        | None  | None                          | None                         |\n",
      "+-----------------+-------------+--------------+------------------+-------------+-------------+-----------------------+---------------+------------------------------+------------+--------+-----------+------------+--------------------------+----------------------+---------------------------------------------+-------+-------------------------------+------------------------------+\n",
      "| Admiral Blvd.   | 800         | 800          | None             | Admiral     | Boulevard   | 800 Admiral Boulevard | None          | address not listed           | None       | None   | None      |            |                          | None                 | None                                        | None  | Padilla, Victor (25) laborer  | None                         |\n",
      "+-----------------+-------------+--------------+------------------+-------------+-------------+-----------------------+---------------+------------------------------+------------+--------+-----------+------------+--------------------------+----------------------+---------------------------------------------+-------+-------------------------------+------------------------------+\n",
      "| Admiral Blvd.   | 801         | 801          | None             | Admiral     | Boulevard   | 801 Admiral Boulevard | None          | address not listed           | None       | None   | None      |            |                          | None                 | None                                        | None  | None                          | None                         |\n",
      "+-----------------+-------------+--------------+------------------+-------------+-------------+-----------------------+---------------+------------------------------+------------+--------+-----------+------------+--------------------------+----------------------+---------------------------------------------+-------+-------------------------------+------------------------------+\n",
      "| Admiral Blvd.   | 807         | 807          | None             | Admiral     | Boulevard   | 807 Admiral Boulevard | None          | Hoper Bros,  whol. Tea       | None       | None   | None      | None       |                          | Hoper Bros Whole Tea | None                                        | None  | None                          | None                         |\n",
      "+-----------------+-------------+--------------+------------------+-------------+-------------+-----------------------+---------------+------------------------------+------------+--------+-----------+------------+--------------------------+----------------------+---------------------------------------------+-------+-------------------------------+------------------------------+\n",
      "| Admiral Blvd.   | 807         | 807          | None             | Admiral     | Boulevard   | 807 Admiral Boulevard | None          | Tulsa Coffee Co.             | None       | None   | None      |            |                          | Tulsa Coffee Co.     | None                                        | None  | None                          | None                         |\n",
      "+-----------------+-------------+--------------+------------------+-------------+-------------+-----------------------+---------------+------------------------------+------------+--------+-----------+------------+--------------------------+----------------------+---------------------------------------------+-------+-------------------------------+------------------------------+\n",
      "...\n",
      "\n"
     ]
    }
   ],
   "source": [
    "from asyncio import gather\n",
    "\n",
    "constraints = [dict(name=\"street_name\", field=\"street\", test=str, optional=False)]\n",
    "\n",
    "headers = {\n",
    "    \"original street\": \"original_street\",\n",
    "    \"original NO\": \"original_number\",\n",
    "    \"house number\": \"number\",\n",
    "    \"street direction\": \"street_direction\",\n",
    "    \"street name\": \"street\",\n",
    "    \"street type\": \"street_type\",\n",
    "    \"full address\": \"full_address\",\n",
    "    \"gis object id\": \"gisid\",\n",
    "    \"original 1920 city dir.\": \"original_dir\",\n",
    "    \"salutation\": \"salutation\",\n",
    "    \"suffix\": \"suffix\",\n",
    "    \"last name\": \"last_name\",\n",
    "    \"first name\": \"first_name\",\n",
    "    \"profession/business type\": \"profession\",\n",
    "    \"business name\": \"business\",\n",
    "    \"not listed as african american in directory\": \"not_african_american\",\n",
    "    \"Notes\": \"notes\",\n",
    "    \"1920 census/head of residence\": \"\",\n",
    "    \"listof losses (Parrish book)\": \"losses\",\n",
    "}\n",
    "\n",
    "\n",
    "async def parse_file(y, file):\n",
    "    table = await asyncify(etl.fromxlsx)(file)\n",
    "    # table = etl.rename(table, headers)\n",
    "    print(table)\n",
    "    table = await asyncify(table.rename)(headers)\n",
    "    # problems = await asyncify(etl.validate)(table, constraints=constraints)\n",
    "    # print(problems.lookall())\n",
    "    return y, table\n",
    "\n",
    "\n",
    "all_data = await gather(*[parse_file(y, f) for y, f in year_files])"
   ]
  },
  {
   "cell_type": "code",
   "execution_count": 31,
   "metadata": {},
   "outputs": [
    {
     "name": "stdout",
     "output_type": "stream",
     "text": [
      "{'original_street': 'Admiral Blvd.', 'original_number': '3', 'number': '3', 'street_direction': None, 'street': 'Admiral', 'street_type': 'Boulevard', 'full_address': '3 Admiral Boulevard', 'gisid': None, 'original_dir': 'address not listed', 'salutation': None, 'suffix': None, 'last_name': None, 'first_name': '', 'profession': '', 'business': None, 'not_african_american': None, 'notes': None, '': None, 'losses': None, 'None': None}\n",
      "{'original_street': 'Admiral Blvd.', 'original_number': '800', 'number': '800', 'street_direction': None, 'street': 'Admiral', 'street_type': 'Boulevard', 'full_address': '800 Admiral Boulevard', 'gisid': None, 'original_dir': 'address not listed', 'salutation': None, 'suffix': None, 'last_name': None, 'first_name': '', 'profession': '', 'business': None, 'not_african_american': None, 'notes': None, '': 'Padilla, Victor (25) laborer', 'losses': None, 'None': None}\n",
      "{'original_street': 'Admiral Blvd.', 'original_number': '801', 'number': '801', 'street_direction': None, 'street': 'Admiral', 'street_type': 'Boulevard', 'full_address': '801 Admiral Boulevard', 'gisid': None, 'original_dir': 'address not listed', 'salutation': None, 'suffix': None, 'last_name': None, 'first_name': '', 'profession': '', 'business': None, 'not_african_american': None, 'notes': None, '': None, 'losses': None, 'None': None}\n",
      "{'original_street': 'Admiral Blvd.', 'original_number': '807', 'number': '807', 'street_direction': None, 'street': 'Admiral', 'street_type': 'Boulevard', 'full_address': '807 Admiral Boulevard', 'gisid': None, 'original_dir': 'address not listed', 'salutation': None, 'suffix': None, 'last_name': None, 'first_name': '', 'profession': '', 'business': None, 'not_african_american': None, 'notes': None, '': None, 'losses': None, 'None': None}\n",
      "{'original_street': 'Admiral Blvd.', 'original_number': '807', 'number': '807', 'street_direction': None, 'street': 'Admiral', 'street_type': 'Boulevard', 'full_address': '807 Admiral Boulevard', 'gisid': None, 'original_dir': 'Tulsa Coffee Co.*', 'salutation': None, 'suffix': None, 'last_name': None, 'first_name': '', 'profession': '', 'business': 'Tulsa Coffee Co.', 'not_african_american': 'Y', 'notes': None, '': None, 'losses': None, 'None': None}\n",
      "...\n"
     ]
    },
    {
     "ename": "FieldSelectionError",
     "evalue": "selection is not a field or valid field index: 'original 1920 city dir.'",
     "output_type": "error",
     "traceback": [
      "\u001b[0;31m---------------------------------------------------------------------------\u001b[0m",
      "\u001b[0;31mFieldSelectionError\u001b[0m                       Traceback (most recent call last)",
      "Cell \u001b[0;32mIn[31], line 5\u001b[0m\n\u001b[1;32m      3\u001b[0m \u001b[39mfor\u001b[39;00m y, table \u001b[39min\u001b[39;00m all_data:\n\u001b[1;32m      4\u001b[0m     data \u001b[39m=\u001b[39m dicts(table)\n\u001b[0;32m----> 5\u001b[0m     \u001b[39mprint\u001b[39;49m(data)\n",
      "File \u001b[0;32m/app/.venv/lib/python3.10/site-packages/petl/util/base.py:438\u001b[0m, in \u001b[0;36mDictsView.__repr__\u001b[0;34m(self)\u001b[0m\n\u001b[1;32m    437\u001b[0m \u001b[39mdef\u001b[39;00m \u001b[39m__repr__\u001b[39m(\u001b[39mself\u001b[39m):\n\u001b[0;32m--> 438\u001b[0m     vreprs \u001b[39m=\u001b[39m \u001b[39mlist\u001b[39;49m(\u001b[39mmap\u001b[39;49m(\u001b[39mrepr\u001b[39;49m, islice(\u001b[39mself\u001b[39;49m, \u001b[39m6\u001b[39;49m)))\n\u001b[1;32m    439\u001b[0m     r \u001b[39m=\u001b[39m \u001b[39m'\u001b[39m\u001b[39m\\n\u001b[39;00m\u001b[39m'\u001b[39m\u001b[39m.\u001b[39mjoin(vreprs[:\u001b[39m5\u001b[39m])\n\u001b[1;32m    440\u001b[0m     \u001b[39mif\u001b[39;00m \u001b[39mlen\u001b[39m(vreprs) \u001b[39m>\u001b[39m \u001b[39m5\u001b[39m:\n",
      "File \u001b[0;32m/app/.venv/lib/python3.10/site-packages/petl/util/base.py:448\u001b[0m, in \u001b[0;36miterdicts\u001b[0;34m(table, *sliceargs, **kwargs)\u001b[0m\n\u001b[1;32m    446\u001b[0m missing \u001b[39m=\u001b[39m kwargs\u001b[39m.\u001b[39mget(\u001b[39m'\u001b[39m\u001b[39mmissing\u001b[39m\u001b[39m'\u001b[39m, \u001b[39mNone\u001b[39;00m)\n\u001b[1;32m    447\u001b[0m it \u001b[39m=\u001b[39m \u001b[39miter\u001b[39m(table)\n\u001b[0;32m--> 448\u001b[0m hdr \u001b[39m=\u001b[39m \u001b[39mnext\u001b[39;49m(it)\n\u001b[1;32m    449\u001b[0m \u001b[39mif\u001b[39;00m sliceargs:\n\u001b[1;32m    450\u001b[0m     it \u001b[39m=\u001b[39m islice(it, \u001b[39m*\u001b[39msliceargs)\n",
      "File \u001b[0;32m/app/.venv/lib/python3.10/site-packages/petl/transform/headers.py:90\u001b[0m, in \u001b[0;36miterrename\u001b[0;34m(source, spec, strict)\u001b[0m\n\u001b[1;32m     88\u001b[0m                 \u001b[39mraise\u001b[39;00m FieldSelectionError(x)\n\u001b[1;32m     89\u001b[0m         \u001b[39melif\u001b[39;00m x \u001b[39mnot\u001b[39;00m \u001b[39min\u001b[39;00m flds:\n\u001b[0;32m---> 90\u001b[0m             \u001b[39mraise\u001b[39;00m FieldSelectionError(x)\n\u001b[1;32m     91\u001b[0m outhdr \u001b[39m=\u001b[39m [spec[i] \u001b[39mif\u001b[39;00m i \u001b[39min\u001b[39;00m spec\n\u001b[1;32m     92\u001b[0m           \u001b[39melse\u001b[39;00m spec[f] \u001b[39mif\u001b[39;00m f \u001b[39min\u001b[39;00m spec\n\u001b[1;32m     93\u001b[0m           \u001b[39melse\u001b[39;00m f\n\u001b[1;32m     94\u001b[0m           \u001b[39mfor\u001b[39;00m i, f \u001b[39min\u001b[39;00m \u001b[39menumerate\u001b[39m(flds)]\n\u001b[1;32m     95\u001b[0m \u001b[39myield\u001b[39;00m \u001b[39mtuple\u001b[39m(outhdr)\n",
      "\u001b[0;31mFieldSelectionError\u001b[0m: selection is not a field or valid field index: 'original 1920 city dir.'"
     ]
    }
   ],
   "source": [
    "from petl import dicts\n",
    "\n",
    "for y, table in all_data:\n",
    "    data = dicts(table)\n",
    "    print(data)"
   ]
  }
 ],
 "metadata": {
  "kernelspec": {
   "display_name": ".venv",
   "language": "python",
   "name": "python3"
  },
  "language_info": {
   "codemirror_mode": {
    "name": "ipython",
    "version": 3
   },
   "file_extension": ".py",
   "mimetype": "text/x-python",
   "name": "python",
   "nbconvert_exporter": "python",
   "pygments_lexer": "ipython3",
   "version": "3.10.10"
  },
  "orig_nbformat": 4
 },
 "nbformat": 4,
 "nbformat_minor": 2
}
